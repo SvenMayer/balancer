{
 "cells": [
  {
   "cell_type": "markdown",
   "metadata": {},
   "source": [
    "# Balancer"
   ]
  },
  {
   "cell_type": "markdown",
   "metadata": {},
   "source": [
    "Measure the vibration caused by an unknown imbalance:\n",
    "$$m_1\\left(s\\right) = G\\left(s\\right) \\cdot \\epsilon$$\n",
    "Then add a known test imbalance.\n",
    "$$m_2\\left(s\\right) = G\\left(s\\right) \\cdot \\left( \\epsilon + \\epsilon_\\text{test} \\right)$$\n",
    "solve the system of linear equations for $\\epsilon_\\text{test}$.\n",
    "\\begin{align}\n",
    "     & \\frac{m_1\\left(s\\right)}{m_2\\left(s\\right)} = \\frac{\\epsilon}{\\epsilon + \\epsilon_\\text{test}} \\\\\n",
    "\\iff & \\epsilon \\frac{m_1\\left(s\\right)}{m_2\\left(s\\right)} + \\epsilon_\\text{test} \\frac{m_1\\left(s\\right)}{m_2\\left(s\\right)} = \\epsilon \\\\\n",
    "\\iff & \\epsilon_\\text{test} \\frac{m_1\\left(s\\right)}{m_2\\left(s\\right)} = \\epsilon \\frac{m_2\\left(s\\right) - m_1\\left(s\\right)}{m_2\\left(s\\right)} \\\\\n",
    "\\iff & \\epsilon = \\epsilon_\\text{test} \\frac{m_1\\left(s\\right)}{m_2\\left(s\\right) - m_1\\left(s\\right)} \\\\\n",
    "\\end{align}"
   ]
  },
  {
   "cell_type": "code",
   "execution_count": null,
   "metadata": {},
   "outputs": [],
   "source": []
  }
 ],
 "metadata": {
  "kernelspec": {
   "display_name": "Python [conda env:anaconda3]",
   "language": "python",
   "name": "conda-env-anaconda3-py"
  },
  "language_info": {
   "codemirror_mode": {
    "name": "ipython",
    "version": 3
   },
   "file_extension": ".py",
   "mimetype": "text/x-python",
   "name": "python",
   "nbconvert_exporter": "python",
   "pygments_lexer": "ipython3",
   "version": "3.5.4"
  }
 },
 "nbformat": 4,
 "nbformat_minor": 2
}
